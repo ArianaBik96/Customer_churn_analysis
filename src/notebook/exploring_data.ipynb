{
 "cells": [
  {
   "cell_type": "code",
   "execution_count": 33,
   "metadata": {},
   "outputs": [],
   "source": [
    "import pandas as pd\n",
    "\n",
    "from sklearn.impute import SimpleImputer\n",
    "from sklearn.preprocessing import LabelEncoder\n",
    "from sklearn.preprocessing import StandardScaler\n",
    "\n",
    "from sklearn.model_selection import train_test_split\n",
    "from sklearn.metrics import classification_report\n",
    "from sklearn.metrics import roc_auc_score, roc_curve, auc\n"
   ]
  },
  {
   "cell_type": "code",
   "execution_count": 34,
   "metadata": {},
   "outputs": [
    {
     "name": "stdout",
     "output_type": "stream",
     "text": [
      "(10127, 20)\n"
     ]
    }
   ],
   "source": [
    "churners_df = pd.read_csv(\"../../data/BankChurners.csv\", index_col='CLIENTNUM')\n",
    "\n",
    "print(churners_df.shape)\n",
    "\n",
    "# # Assuming 'df' is your DataFrame containing the dataset\n",
    "# current_month = 2024 * 12 + 5  # Convert reference date to months\n",
    "# df['Customer_Tenure'] = current_month - df['Months_on_book']"
   ]
  },
  {
   "cell_type": "code",
   "execution_count": 35,
   "metadata": {},
   "outputs": [],
   "source": [
    "def adding_features(df):\n",
    "    return df"
   ]
  },
  {
   "cell_type": "code",
   "execution_count": 36,
   "metadata": {},
   "outputs": [],
   "source": [
    "def imputer(X_train, X_test):\n",
    "    # Create an empty list to store columns with 'unknown' values\n",
    "    columns_train_with_unknown = []\n",
    "    columns_test_with_unknown = []\n",
    "\n",
    "    # Iterate over each column\n",
    "    for col in X_train.columns:\n",
    "        # Check if any value in the column is 'unknown'\n",
    "        if 'Unknown' in X_train[col].values:\n",
    "            # If 'unknown' value is found, add the column name to the list\n",
    "            columns_train_with_unknown.append(col)\n",
    "    \n",
    "    # Iterate over each column\n",
    "    for col in X_test.columns:\n",
    "        # Check if any value in the column is 'unknown'\n",
    "        if  'Unknown' in X_test[col].values:\n",
    "            # If 'unknown' value is found, add the column name to the list\n",
    "            columns_test_with_unknown.append(col)   "
   ]
  },
  {
   "cell_type": "code",
   "execution_count": 37,
   "metadata": {},
   "outputs": [],
   "source": [
    "def encode(X_train, X_test):\n",
    "    # encode categorical features\n",
    "    categorical_cols = X_train.select_dtypes('object').columns\n",
    "\n",
    "    encoder = LabelEncoder()\n",
    "    for col in categorical_cols:\n",
    "        X_train[col] = encoder.fit_transform(X_train[col])\n",
    "        \n",
    "        #If a value is encountered in the test data that wasn't seen during training (i.e., not present in the label encoder's classes), \n",
    "        #it's assigned a placeholder value of -1. This ensures that unseen categorical values in the test data are handled appropriately \n",
    "        #during the encoding process.\n",
    "        X_test[col] = X_test[col].map(lambda s: encoder.transform([s])[0] if s in encoder.classes_ else -1)\n",
    "    \n",
    "    return X_train, X_test"
   ]
  },
  {
   "cell_type": "code",
   "execution_count": 38,
   "metadata": {},
   "outputs": [],
   "source": [
    "def scaler(X_train, X_test):\n",
    "    return X_train, X_test"
   ]
  },
  {
   "cell_type": "code",
   "execution_count": 39,
   "metadata": {},
   "outputs": [],
   "source": [
    "def preprocess(df):\n",
    "\n",
    "    # no missing values --> imputing = not necessary\n",
    "    df.isnull().sum()\n",
    "    adding_features(df)\n",
    "\n",
    "    X = churners_df.drop('Attrition_Flag', axis=1)\n",
    "    y = churners_df['Attrition_Flag']\n",
    "\n",
    "    X_train, X_test, y_train, y_test = train_test_split(X, y, test_size=0.2, random_state=42)\n",
    "\n",
    "    X_train, X_test = imputer(X_train, X_test)\n",
    "    X_train, X_test = encode(X_train, X_test)\n",
    "    X_train, X_test = scaler(X_train, X_test)\n",
    "\n",
    "    return X_train, X_test, y_train, y_test\n"
   ]
  },
  {
   "cell_type": "code",
   "execution_count": 40,
   "metadata": {},
   "outputs": [
    {
     "ename": "TypeError",
     "evalue": "cannot unpack non-iterable NoneType object",
     "output_type": "error",
     "traceback": [
      "\u001b[1;31m---------------------------------------------------------------------------\u001b[0m",
      "\u001b[1;31mTypeError\u001b[0m                                 Traceback (most recent call last)",
      "Cell \u001b[1;32mIn[40], line 1\u001b[0m\n\u001b[1;32m----> 1\u001b[0m \u001b[43mpreprocess\u001b[49m\u001b[43m(\u001b[49m\u001b[43mchurners_df\u001b[49m\u001b[43m)\u001b[49m\n",
      "Cell \u001b[1;32mIn[39], line 12\u001b[0m, in \u001b[0;36mpreprocess\u001b[1;34m(df)\u001b[0m\n\u001b[0;32m      8\u001b[0m y \u001b[38;5;241m=\u001b[39m churners_df[\u001b[38;5;124m'\u001b[39m\u001b[38;5;124mAttrition_Flag\u001b[39m\u001b[38;5;124m'\u001b[39m]\n\u001b[0;32m     10\u001b[0m X_train, X_test, y_train, y_test \u001b[38;5;241m=\u001b[39m train_test_split(X, y, test_size\u001b[38;5;241m=\u001b[39m\u001b[38;5;241m0.2\u001b[39m, random_state\u001b[38;5;241m=\u001b[39m\u001b[38;5;241m42\u001b[39m)\n\u001b[1;32m---> 12\u001b[0m X_train, X_test \u001b[38;5;241m=\u001b[39m imputer(X_train, X_test)\n\u001b[0;32m     13\u001b[0m X_train, X_test \u001b[38;5;241m=\u001b[39m encode(X_train, X_test)\n\u001b[0;32m     14\u001b[0m X_train, X_test \u001b[38;5;241m=\u001b[39m scaler(X_train, X_test)\n",
      "\u001b[1;31mTypeError\u001b[0m: cannot unpack non-iterable NoneType object"
     ]
    }
   ],
   "source": [
    "preprocess(churners_df)"
   ]
  }
 ],
 "metadata": {
  "kernelspec": {
   "display_name": "venv",
   "language": "python",
   "name": "python3"
  },
  "language_info": {
   "codemirror_mode": {
    "name": "ipython",
    "version": 3
   },
   "file_extension": ".py",
   "mimetype": "text/x-python",
   "name": "python",
   "nbconvert_exporter": "python",
   "pygments_lexer": "ipython3",
   "version": "3.12.3"
  }
 },
 "nbformat": 4,
 "nbformat_minor": 2
}
